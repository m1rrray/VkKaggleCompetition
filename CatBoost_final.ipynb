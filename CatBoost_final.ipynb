{
 "cells": [
  {
   "cell_type": "markdown",
   "id": "R8Igddv6CM66",
   "metadata": {
    "id": "R8Igddv6CM66"
   },
   "source": [
    "#Загрузка моделей и библиотек"
   ]
  },
  {
   "cell_type": "code",
   "execution_count": null,
   "id": "gW_g1cuiifMO",
   "metadata": {
    "collapsed": true,
    "id": "gW_g1cuiifMO",
    "jupyter": {
     "outputs_hidden": true
    }
   },
   "outputs": [],
   "source": [
    "!pip install catboost\n",
    "!pip install pymorphy2"
   ]
  },
  {
   "cell_type": "code",
   "execution_count": 2,
   "id": "901132e79c82f040",
   "metadata": {
    "collapsed": true,
    "id": "901132e79c82f040",
    "jupyter": {
     "outputs_hidden": true
    }
   },
   "outputs": [],
   "source": [
    "import pandas as pd\n",
    "import numpy as np\n",
    "import re\n",
    "import nltk\n",
    "import pymorphy2\n",
    "import os\n",
    "from collections import Counter\n",
    "from nltk.tokenize import word_tokenize\n",
    "from nltk.corpus import stopwords\n",
    "from transformers import BertTokenizer, BertModel\n",
    "from sklearn.cluster import DBSCAN\n",
    "import torch\n",
    "from sklearn.feature_extraction.text import TfidfVectorizer\n",
    "from sklearn.model_selection import train_test_split, GroupShuffleSplit\n",
    "from sklearn.preprocessing import StandardScaler\n",
    "from sklearn.metrics.pairwise import cosine_similarity\n",
    "from sklearn.metrics import f1_score, precision_recall_curve, classification_report, accuracy_score\n",
    "from catboost import CatBoostClassifier, Pool\n",
    "from tqdm import tqdm\n",
    "from bs4 import BeautifulSoup\n",
    "from sklearn.neighbors import KNeighborsClassifier\n",
    "import warnings\n",
    "warnings.filterwarnings(\"ignore\")"
   ]
  },
  {
   "cell_type": "markdown",
   "id": "mW6VWhQGCVfc",
   "metadata": {
    "id": "mW6VWhQGCVfc"
   },
   "source": [
    "# Загрузка данных"
   ]
  },
  {
   "cell_type": "code",
   "execution_count": 29,
   "id": "dcd259dbdd5e5cdd",
   "metadata": {
    "id": "dcd259dbdd5e5cdd"
   },
   "outputs": [],
   "source": [
    "# Загрузка данных\n",
    "train_groups = pd.read_csv('train_groups.csv')\n",
    "test_groups = pd.read_csv('test_groups.csv')\n",
    "docs_titles = pd.read_csv('docs_titles.tsv', sep='\\t')"
   ]
  },
  {
   "cell_type": "code",
   "execution_count": 30,
   "id": "211e55804f9f14e9",
   "metadata": {
    "id": "211e55804f9f14e9"
   },
   "outputs": [],
   "source": [
    "# Объединение заголовков с данными групп\n",
    "train_data = train_groups.merge(docs_titles, on='doc_id')\n",
    "test_data = test_groups.merge(docs_titles, on='doc_id', how='left')"
   ]
  },
  {
   "cell_type": "code",
   "execution_count": 31,
   "id": "diC4wvt9rW3O",
   "metadata": {
    "colab": {
     "base_uri": "https://localhost:8080/"
    },
    "id": "diC4wvt9rW3O",
    "outputId": "17e62425-9f1d-411d-8dc8-4ecc4cf9640c"
   },
   "outputs": [
    {
     "data": {
      "text/plain": [
       "(pair_id      0\n",
       " group_id     0\n",
       " doc_id       0\n",
       " target       0\n",
       " title       16\n",
       " dtype: int64,\n",
       " pair_id      0\n",
       " group_id     0\n",
       " doc_id       0\n",
       " title       92\n",
       " dtype: int64)"
      ]
     },
     "execution_count": 31,
     "metadata": {},
     "output_type": "execute_result"
    }
   ],
   "source": [
    "# Просмотр пропусков\n",
    "train_data.isna().sum(), test_data.isna().sum()"
   ]
  },
  {
   "cell_type": "code",
   "execution_count": 32,
   "id": "c1a03e30037f5f40",
   "metadata": {
    "id": "c1a03e30037f5f40"
   },
   "outputs": [],
   "source": [
    "# Обработка отсутствующих значений\n",
    "train_data['title'].fillna('', inplace=True)\n",
    "test_data['title'].fillna('', inplace=True)"
   ]
  },
  {
   "cell_type": "markdown",
   "id": "VNibqmm-CZHf",
   "metadata": {
    "id": "VNibqmm-CZHf"
   },
   "source": [
    "# Предобработка данных"
   ]
  },
  {
   "cell_type": "code",
   "execution_count": null,
   "id": "3d0f7e2e523b5231",
   "metadata": {
    "collapsed": true,
    "id": "3d0f7e2e523b5231",
    "jupyter": {
     "outputs_hidden": true
    }
   },
   "outputs": [],
   "source": [
    "# Загрузка данных для NLTK\n",
    "nltk.download('punkt')\n",
    "nltk.download('stopwords')\n",
    "nltk.download('wordnet')\n",
    "\n",
    "# Стоп-слова и шум\n",
    "stop_words = set(stopwords.words('russian')) | set(stopwords.words('english'))\n",
    "\n",
    "morph = pymorphy2.MorphAnalyzer()"
   ]
  },
  {
   "cell_type": "code",
   "execution_count": 34,
   "id": "b882508403a74291",
   "metadata": {
    "id": "b882508403a74291"
   },
   "outputs": [],
   "source": [
    "def preprocess_text(text):\n",
    "    \"\"\"\n",
    "    Токенизация + лемматизация текста\n",
    "    \"\"\"\n",
    "    text = re.sub(r'<.*?>', '', text)  # Удаление HTML-тегов\n",
    "    text = re.sub(r'[^a-zA-Zа-яА-Я0-9\\s]', '', text.lower())  # Удаление спецсимволов\n",
    "    tokens = word_tokenize(text.lower())\n",
    "    tokens = [token for token in tokens if token not in stop_words and not token.isdigit()]\n",
    "    tokens = [morph.parse(word)[0].normal_form for word in tokens]\n",
    "    return tokens\n",
    "\n",
    "train_data['title_processed'] = train_data['title'].apply(preprocess_text)\n",
    "test_data['title_processed'] = test_data['title'].apply(preprocess_text)"
   ]
  },
  {
   "cell_type": "markdown",
   "id": "DUPVkQXoCi6I",
   "metadata": {
    "id": "DUPVkQXoCi6I"
   },
   "source": [
    "# Векторизация BERT"
   ]
  },
  {
   "cell_type": "code",
   "execution_count": 9,
   "id": "dcdfe60cee23b604",
   "metadata": {
    "collapsed": true,
    "id": "dcdfe60cee23b604",
    "jupyter": {
     "outputs_hidden": true
    }
   },
   "outputs": [],
   "source": [
    "# Векторизация с помощью BERT\n",
    "device = torch.device('cuda' if torch.cuda.is_available() else 'cpu')\n",
    "tokenizer = BertTokenizer.from_pretrained('bert-base-uncased')\n",
    "model = BertModel.from_pretrained('bert-base-uncased').to(device)\n",
    "\n",
    "def get_bert_embeddings(text):\n",
    "    inputs = tokenizer(text, padding=True, truncation=True, max_length=512, return_tensors=\"pt\").to(device)\n",
    "    with torch.no_grad():\n",
    "        outputs = model(**inputs)\n",
    "    return outputs.last_hidden_state[:, 0, :].squeeze().cpu()\n",
    "\n",
    "train_data['title_embeddings'] = train_data['title'].apply(lambda x: get_bert_embeddings(x).numpy())\n",
    "test_data['title_embeddings'] = test_data['title'].apply(lambda x: get_bert_embeddings(x).numpy())"
   ]
  },
  {
   "cell_type": "markdown",
   "id": "u-eLsZEzCoJM",
   "metadata": {
    "id": "u-eLsZEzCoJM"
   },
   "source": [
    "# Создание фичей"
   ]
  },
  {
   "cell_type": "markdown",
   "id": "Xw1A-AuCvsMY",
   "metadata": {
    "id": "Xw1A-AuCvsMY"
   },
   "source": [
    "## BERT фичи"
   ]
  },
  {
   "cell_type": "code",
   "execution_count": 10,
   "id": "e8c2bde5a6973eeb",
   "metadata": {
    "id": "e8c2bde5a6973eeb"
   },
   "outputs": [],
   "source": [
    "def embeddings_to_features(data, column_prefix):\n",
    "    \"\"\"\n",
    "    Преобразуем эмбеддинги в фичи\n",
    "    \"\"\"\n",
    "    embeddings = np.stack(data[column_prefix + '_embeddings'].values)\n",
    "    feature_names = [f\"{column_prefix}_embedding_{i}\" for i in range(embeddings.shape[1])]\n",
    "    features_df = pd.DataFrame(embeddings, columns=feature_names, index=data.index)\n",
    "    return features_df\n",
    "\n",
    "train_features = embeddings_to_features(train_data, 'title')\n",
    "test_features = embeddings_to_features(test_data, 'title')"
   ]
  },
  {
   "cell_type": "code",
   "execution_count": 35,
   "id": "36db76a1201238de",
   "metadata": {
    "id": "36db76a1201238de"
   },
   "outputs": [],
   "source": [
    "def add_new_features(data):\n",
    "    \"\"\"\n",
    "    Добавляем новые признаки: длина заголовка и число уникальных слов\n",
    "    \"\"\"\n",
    "    data['title_length'] = data['title'].apply(lambda x: len(x.split()))\n",
    "    data['unique_words'] = data['title_processed'].apply(lambda x: len(set(x)))\n",
    "    return data\n",
    "\n",
    "train_data = add_new_features(train_data)\n",
    "test_data = add_new_features(test_data)"
   ]
  },
  {
   "cell_type": "markdown",
   "id": "Iyiuf3Im5UgY",
   "metadata": {
    "id": "Iyiuf3Im5UgY"
   },
   "source": [
    "## Косинусные сходства Tfidf"
   ]
  },
  {
   "cell_type": "code",
   "execution_count": 36,
   "id": "gTq75O_sK58M",
   "metadata": {
    "id": "gTq75O_sK58M"
   },
   "outputs": [],
   "source": [
    "def vectorize_group(group):\n",
    "    \"\"\"\n",
    "    Векторизуем группу документов с кастомным токенайзером\n",
    "    \"\"\"\n",
    "    vectorizer = TfidfVectorizer(tokenizer=preprocess_text)\n",
    "    vectors = vectorizer.fit_transform(group['title'])\n",
    "    return vectors"
   ]
  },
  {
   "cell_type": "code",
   "execution_count": 37,
   "id": "vxNwYOBA5BlG",
   "metadata": {
    "id": "vxNwYOBA5BlG"
   },
   "outputs": [],
   "source": [
    "def data_to_tfidf(data_grouped):\n",
    "    \"\"\"\n",
    "    Создание tfidf матрицы для данных по группам\n",
    "    \"\"\"\n",
    "    tfidf_data = pd.DataFrame()\n",
    "    for name, group in tqdm(data_grouped, desc=\"Processing groups\"):\n",
    "        # Для каждой группы получаем векторное представление\n",
    "        tfidf_matrix = vectorize_group(group)\n",
    "        tfidf_df = pd.DataFrame(tfidf_matrix.toarray(), columns=[f'tfidf_{i}' for i in range(tfidf_matrix.shape[1])], index=group.index)\n",
    "        # Соединяем в df все группы\n",
    "        tfidf_data = pd.concat([tfidf_data, tfidf_df])\n",
    "    return tfidf_data"
   ]
  },
  {
   "cell_type": "code",
   "execution_count": 38,
   "id": "UQDLq8PQ5aqB",
   "metadata": {
    "id": "UQDLq8PQ5aqB"
   },
   "outputs": [],
   "source": [
    "def cosine_matrix_group(group):\n",
    "    \"\"\"\n",
    "    Вычисление матрицы косинусных расстояний для группы\n",
    "    \"\"\"\n",
    "    tfidf_matrix = vectorize_group(group)\n",
    "    cosine_matrix = cosine_similarity(tfidf_matrix)\n",
    "    return cosine_matrix"
   ]
  },
  {
   "cell_type": "code",
   "execution_count": 39,
   "id": "Q5xUL97czxwE",
   "metadata": {
    "id": "Q5xUL97czxwE"
   },
   "outputs": [],
   "source": [
    "def calc_cosine_similarity(data_grouped, count=10):\n",
    "    \"\"\"\n",
    "    Возвращаем топ косинусных сходств для каждого документа группы\n",
    "    \"\"\"\n",
    "    similarity_features_list = []\n",
    "    for name, group in tqdm(data_grouped, desc=\"Processing groups\"):\n",
    "        cosine_matrix = cosine_matrix_group(group)\n",
    "        for k, (idx, row) in enumerate(group.iterrows()):\n",
    "            similarities = []\n",
    "            for j in range(len(group)):\n",
    "                if k == j:\n",
    "                    continue\n",
    "                similarities.append(cosine_matrix[k, j])\n",
    "            top_similarities = sorted(similarities, reverse=True)[:count]\n",
    "            similarity_record = [row['pair_id']] + top_similarities\n",
    "            similarity_features_list.append(similarity_record)\n",
    "    similarity_columns = ['pair_id'] + [f'top_{i+1}_similarity' for i in range(count)]\n",
    "    similarity_features = pd.DataFrame(similarity_features_list, columns=similarity_columns)\n",
    "    return similarity_features"
   ]
  },
  {
   "cell_type": "markdown",
   "id": "d6dDho3z5ZBz",
   "metadata": {
    "id": "d6dDho3z5ZBz"
   },
   "source": [
    "# Кластеризация"
   ]
  },
  {
   "cell_type": "code",
   "execution_count": 40,
   "id": "lCUlD0rm9S6t",
   "metadata": {
    "id": "lCUlD0rm9S6t"
   },
   "outputs": [],
   "source": [
    "def clustering_features(data_grouped, eps=0.5, min_samples=5, metric='cosine'):\n",
    "    \"\"\"\n",
    "    Возвращаем кластер для каждого документа группы\n",
    "    \"\"\"\n",
    "    clustering_features_list = []\n",
    "    for name, group in tqdm(data_grouped, desc=\"Processing groups\"):\n",
    "        cosine_matrix = cosine_matrix_group(group)\n",
    "        dbscan = DBSCAN(eps=eps, min_samples=min_samples, metric=metric).fit(cosine_matrix)\n",
    "        cluster_labels = dbscan.labels_\n",
    "        for k, (idx, row) in enumerate(group.iterrows()):\n",
    "            clustering_record = [row['pair_id'], cluster_labels[k]]\n",
    "            clustering_features_list.append(clustering_record)\n",
    "    clustering_columns = ['pair_id', 'cluster']\n",
    "    clustering_features = pd.DataFrame(clustering_features_list, columns=clustering_columns)\n",
    "    return clustering_features"
   ]
  },
  {
   "cell_type": "markdown",
   "id": "e9vhZT44lmk2",
   "metadata": {
    "id": "e9vhZT44lmk2"
   },
   "source": [
    "## Общие слова пар документов"
   ]
  },
  {
   "cell_type": "code",
   "execution_count": 41,
   "id": "y-NAmnQJlpdz",
   "metadata": {
    "id": "y-NAmnQJlpdz"
   },
   "outputs": [],
   "source": [
    "def count_common_words(list1, list2):\n",
    "    counter1 = Counter(list1)\n",
    "    counter2 = Counter(list2)\n",
    "    common_words = counter1 & counter2  # Находит общие элементы с минимальным счетчиком\n",
    "    return sum(common_words.values())"
   ]
  },
  {
   "cell_type": "code",
   "execution_count": 42,
   "id": "uRfByM0mluB3",
   "metadata": {
    "id": "uRfByM0mluB3"
   },
   "outputs": [],
   "source": [
    "def calc_count_common_words(data_grouped, count=10):\n",
    "    \"\"\"\n",
    "    Возвращаем топ общих слов для каждого документа группы\n",
    "    \"\"\"\n",
    "    common_words_features_list = []\n",
    "    for name, group in tqdm(data_grouped, desc=\"Processing groups\"):\n",
    "        for k, (idx, row) in enumerate(group.iterrows()):\n",
    "            common_words = []\n",
    "            for j, (idx2, row2) in enumerate(group.iterrows()):\n",
    "                if k == j:\n",
    "                    continue\n",
    "                common_words.append(count_common_words(row['title_processed'], row2['title_processed']))\n",
    "            top_common_words = sorted(common_words, reverse=True)[:count]\n",
    "            common_words_record = [row['pair_id']] + top_common_words\n",
    "            common_words_features_list.append(common_words_record)\n",
    "    common_words_columns = ['pair_id'] + [f'top_{i+1}_common_words' for i in range(count)]\n",
    "    common_words_features = pd.DataFrame(common_words_features_list, columns=common_words_columns)\n",
    "    return common_words_features"
   ]
  },
  {
   "cell_type": "markdown",
   "id": "U-6p30UFC2P2",
   "metadata": {
    "id": "U-6p30UFC2P2"
   },
   "source": [
    "# Объединение данных и фичей в датасет"
   ]
  },
  {
   "cell_type": "code",
   "execution_count": 44,
   "id": "Se50llZN-wId",
   "metadata": {
    "id": "Se50llZN-wId"
   },
   "outputs": [],
   "source": [
    "# Разбиваем train и test по группам на основе id\n",
    "train_data_grouped = train_data.groupby('group_id')\n",
    "test_data_grouped = test_data.groupby('group_id')"
   ]
  },
  {
   "cell_type": "code",
   "execution_count": 20,
   "id": "dVLxFEej-05S",
   "metadata": {
    "colab": {
     "base_uri": "https://localhost:8080/"
    },
    "id": "dVLxFEej-05S",
    "outputId": "9f142ce3-8c8b-4054-a20c-725b123e6b48"
   },
   "outputs": [
    {
     "name": "stderr",
     "output_type": "stream",
     "text": [
      "Processing groups: 100%|██████████| 129/129 [00:17<00:00,  7.25it/s]\n",
      "Processing groups: 100%|██████████| 129/129 [00:22<00:00,  5.66it/s]\n",
      "Processing groups: 100%|██████████| 129/129 [01:15<00:00,  1.71it/s]\n",
      "Processing groups: 100%|██████████| 180/180 [00:24<00:00,  7.32it/s]\n",
      "Processing groups: 100%|██████████| 180/180 [00:33<00:00,  5.39it/s]\n",
      "Processing groups: 100%|██████████| 180/180 [01:48<00:00,  1.65it/s]\n"
     ]
    }
   ],
   "source": [
    "# Фичи для трейна и теста\n",
    "train_similarity_features = calc_cosine_similarity(train_data_grouped)\n",
    "train_clustering_features = clustering_features(train_data_grouped)\n",
    "train_common_words_features = calc_count_common_words(train_data_grouped)\n",
    "\n",
    "test_similarity_features = calc_cosine_similarity(test_data_grouped)\n",
    "test_clustering_features = clustering_features(test_data_grouped)\n",
    "test_common_words_features = calc_count_common_words(test_data_grouped)\n",
    "\n",
    "# Заполняем пропуски нулями\n",
    "train_similarity_features = train_similarity_features.fillna(0)\n",
    "train_common_words_features = train_common_words_features.fillna(0)\n",
    "\n",
    "test_similarity_features = test_similarity_features.fillna(0)\n",
    "test_common_words_features = test_common_words_features.fillna(0)"
   ]
  },
  {
   "cell_type": "code",
   "execution_count": 47,
   "id": "6_yy-QnQiSwR",
   "metadata": {
    "id": "6_yy-QnQiSwR"
   },
   "outputs": [],
   "source": [
    "# Объединяем новые признаки с исходным датасетом\n",
    "train_data = train_data.merge(train_similarity_features, on=['pair_id'])\n",
    "train_data = train_data.merge(train_clustering_features, on=['pair_id'])\n",
    "train_data = train_data.merge(train_common_words_features, on=['pair_id'])\n",
    "\n",
    "test_data = test_data.merge(test_similarity_features, on=['pair_id'])\n",
    "test_data = test_data.merge(test_clustering_features, on=['pair_id'])\n",
    "test_data = test_data.merge(test_common_words_features, on=['pair_id'])"
   ]
  },
  {
   "cell_type": "code",
   "execution_count": 49,
   "id": "9rgzUnmCBuiV",
   "metadata": {
    "id": "9rgzUnmCBuiV"
   },
   "outputs": [],
   "source": [
    "# Объединяем с BERT признаками\n",
    "train_data = pd.concat([train_data, train_features], axis=1)\n",
    "test_data = pd.concat([test_data, test_features], axis=1)"
   ]
  },
  {
   "cell_type": "markdown",
   "id": "8E8QouA_PXMg",
   "metadata": {
    "id": "8E8QouA_PXMg"
   },
   "source": [
    "# Разбиение на train, val и test"
   ]
  },
  {
   "cell_type": "code",
   "execution_count": 51,
   "id": "gVKolUf9NQaB",
   "metadata": {
    "id": "gVKolUf9NQaB"
   },
   "outputs": [],
   "source": [
    "X_train = train_data.drop(columns=['doc_id', 'pair_id', 'group_id', 'target', 'title', 'title_processed', 'title_embeddings'], axis=1)\n",
    "y_train = train_data['target']\n",
    "\n",
    "X_test = test_data.drop(columns=['doc_id', 'pair_id', 'group_id', 'title', 'title_processed', 'title_embeddings'], axis=1)"
   ]
  },
  {
   "cell_type": "code",
   "execution_count": 52,
   "id": "a44ddb55949afd80",
   "metadata": {
    "id": "a44ddb55949afd80"
   },
   "outputs": [],
   "source": [
    "# Разбиение данных на обучающую и тестовую выборки\n",
    "splitter = GroupShuffleSplit(n_splits=1, test_size=0.3, random_state=42)\n",
    "train_indices, val_indices = next(splitter.split(X_train, y_train, train_groups['group_id']))\n",
    "\n",
    "X_train_split = X_train.iloc[train_indices]\n",
    "y_train_split = y_train.iloc[train_indices]\n",
    "\n",
    "X_val_split = X_train.iloc[val_indices]\n",
    "y_val_split = y_train.iloc[val_indices]"
   ]
  },
  {
   "cell_type": "markdown",
   "id": "zq6R8hgHPunk",
   "metadata": {
    "id": "zq6R8hgHPunk"
   },
   "source": [
    "# Обучение и инференс модели"
   ]
  },
  {
   "cell_type": "code",
   "execution_count": null,
   "id": "e73f61fe42d3bba8",
   "metadata": {
    "collapsed": true,
    "id": "e73f61fe42d3bba8",
    "jupyter": {
     "outputs_hidden": true
    }
   },
   "outputs": [],
   "source": [
    "# Обучение модели CatBoost\n",
    "model = CatBoostClassifier()\n",
    "train_pool = Pool(X_train_split, y_train_split)\n",
    "val_pool = Pool(X_val_split, y_val_split)\n",
    "model.fit(train_pool, eval_set=val_pool)"
   ]
  },
  {
   "cell_type": "code",
   "execution_count": 54,
   "id": "6b27cd263050e2c2",
   "metadata": {
    "id": "6b27cd263050e2c2"
   },
   "outputs": [],
   "source": [
    "# Предсказания на валидационной выборке\n",
    "val_predictions = model.predict(val_pool)"
   ]
  },
  {
   "cell_type": "code",
   "execution_count": 55,
   "id": "2ac4e01036617974",
   "metadata": {
    "colab": {
     "base_uri": "https://localhost:8080/"
    },
    "id": "2ac4e01036617974",
    "outputId": "49184d12-49e8-4aff-b404-bb953173bd0c"
   },
   "outputs": [
    {
     "name": "stdout",
     "output_type": "stream",
     "text": [
      "Accuracy: 0.8501742160278746\n",
      "F1-score: 0.6587301587301586\n",
      "              precision    recall  f1-score   support\n",
      "\n",
      "           0       0.91      0.90      0.90      2704\n",
      "           1       0.65      0.67      0.66       740\n",
      "\n",
      "    accuracy                           0.85      3444\n",
      "   macro avg       0.78      0.79      0.78      3444\n",
      "weighted avg       0.85      0.85      0.85      3444\n",
      "\n"
     ]
    }
   ],
   "source": [
    "# Оценка модели на валидации\n",
    "accuracy = accuracy_score(y_val_split, val_predictions)\n",
    "f1 = f1_score(y_val_split, val_predictions)\n",
    "report = classification_report(y_val_split, val_predictions)\n",
    "\n",
    "print(f\"Accuracy: {accuracy}\")\n",
    "print(f\"F1-score: {f1}\")\n",
    "print(report)"
   ]
  },
  {
   "cell_type": "markdown",
   "id": "uPCmyRYV0B3m",
   "metadata": {
    "id": "uPCmyRYV0B3m"
   },
   "source": [
    "# Важность признаков"
   ]
  },
  {
   "cell_type": "code",
   "execution_count": null,
   "id": "ZX7l2sq3yxw3",
   "metadata": {
    "colab": {
     "base_uri": "https://localhost:8080/",
     "height": 564
    },
    "id": "ZX7l2sq3yxw3",
    "outputId": "c3991463-0601-4a1e-bb19-cbeec97b33e8"
   },
   "outputs": [
    {
     "data": {
      "image/png": "[encoded data removed]",
      "text/plain": [
       "<Figure size 1000x600 with 1 Axes>"
      ]
     },
     "metadata": {},
     "output_type": "display_data"
    }
   ],
   "source": [
    "import matplotlib.pyplot as plt\n",
    "\n",
    "importances = model.get_feature_importance(type='PredictionValuesChange')\n",
    "feature_importances = pd.Series(importances, index=X_train.columns).sort_values()[-15:]\n",
    "feature_importances\n",
    "plt.figure(figsize=(10, 6))\n",
    "plt.barh(feature_importances.index, feature_importances.values)\n",
    "plt.title('CatBoost Feature Importance')\n",
    "plt.xlabel('Importance')\n",
    "plt.ylabel('Features')\n",
    "plt.show()"
   ]
  },
  {
   "cell_type": "code",
   "execution_count": null,
   "id": "e0caa42c21ec724d",
   "metadata": {
    "id": "e0caa42c21ec724d"
   },
   "outputs": [],
   "source": [
    "# Предсказание на тестовом наборе\n",
    "test_pool = Pool(X_test)\n",
    "test_predictions = model.predict(test_pool)"
   ]
  },
  {
   "cell_type": "code",
   "execution_count": null,
   "id": "initial_id",
   "metadata": {
    "colab": {
     "base_uri": "https://localhost:8080/"
    },
    "id": "initial_id",
    "outputId": "4d7df4c6-d382-408e-d838-11cabfb89b6c"
   },
   "outputs": [
    {
     "name": "stdout",
     "output_type": "stream",
     "text": [
      "Файл с предсказаниями создан: submission.csv\n"
     ]
    }
   ],
   "source": [
    "# Сохранение результатов\n",
    "submission = test_groups[['pair_id']].copy()\n",
    "submission['target'] = test_predictions\n",
    "submission.to_csv('submission.csv', index=False)\n",
    "\n",
    "print('Файл с предсказаниями создан: submission.csv')"
   ]
  },
  {
   "cell_type": "markdown",
   "id": "1O0BPyUmJoTB",
   "metadata": {
    "id": "1O0BPyUmJoTB"
   },
   "source": [
    "# Инференс"
   ]
  },
  {
   "cell_type": "code",
   "execution_count": 56,
   "id": "DIyNGCPKJpo7",
   "metadata": {
    "colab": {
     "base_uri": "https://localhost:8080/"
    },
    "id": "DIyNGCPKJpo7",
    "outputId": "0238fc42-a54d-448c-8d7a-3701c5e97efa"
   },
   "outputs": [
    {
     "name": "stdout",
     "output_type": "stream",
     "text": [
      "Файл с предсказаниями создан: submission.csv\n"
     ]
    }
   ],
   "source": [
    "test_pool = Pool(X_test)\n",
    "\n",
    "# Предсказание на тестовом наборе\n",
    "test_predictions = model.predict(test_pool)\n",
    "\n",
    "# Сохранение результатов\n",
    "submission = test_groups[['pair_id']].copy()\n",
    "submission['target'] = test_predictions\n",
    "submission.to_csv('/content/submission.csv', index=False)\n",
    "\n",
    "print('Файл с предсказаниями создан: submission.csv')"
   ]
  }
 ],
 "metadata": {
  "accelerator": "GPU",
  "colab": {
   "collapsed_sections": [
    "smSWBFPaEr3i",
    "gIXXaq0g5a70",
    "JLHxqx7p5eQx",
    "-SVGNlOsJZ8h",
    "uPCmyRYV0B3m"
   ],
   "gpuType": "T4",
   "provenance": []
  },
  "kernelspec": {
   "display_name": "Python 3 (ipykernel)",
   "language": "python",
   "name": "python3"
  },
  "language_info": {
   "codemirror_mode": {
    "name": "ipython",
    "version": 3
   },
   "file_extension": ".py",
   "mimetype": "text/x-python",
   "name": "python",
   "nbconvert_exporter": "python",
   "pygments_lexer": "ipython3",
   "version": "3.11.7"
  }
 },
 "nbformat": 4,
 "nbformat_minor": 5
}
